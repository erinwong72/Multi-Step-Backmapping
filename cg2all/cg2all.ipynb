{
  "cells": [
    {
      "cell_type": "code",
      "execution_count": 1,
      "metadata": {},
      "outputs": [],
      "source": [
        "cg_list = [5, 15, 25,35]"
      ]
    },
    {
      "cell_type": "code",
      "execution_count": 2,
      "metadata": {},
      "outputs": [],
      "source": [
        "cg_list = [10, 19, 50]"
      ]
    },
    {
      "cell_type": "code",
      "execution_count": 2,
      "metadata": {
        "cellView": "form",
        "id": "u4e5NhxndAQ8"
      },
      "outputs": [
        {
          "name": "stdout",
          "output_type": "stream",
          "text": [
            "Warning: 'topology' data from input file(s) will be discarded. output format only supports fields: 'xyz', 'cell_lengths', 'cell_angles'\n",
            "/home/erin/miniconda3/envs/cg2all/lib/python3.8/site-packages/mdtraj/utils/validation.py:115: TypeCastPerformanceWarning: Casting xyz dtype=float64 to <class 'numpy.float32'> \n",
            "  warnings.warn(\"Casting %s dtype=%s to %s \" % (name, val.dtype, dtype),\n",
            "converted 300 frames, 320 atoms \n",
            "100%|███████████████████████████████████████████| 60/60 [00:25<00:00,  2.37it/s]\n",
            "{'loading_ckpt': 0.600285530090332, 'model_configuration': 0.03897213935852051, 'loading_input': 2.8542726039886475, 'forward_pass': 24.85145092010498, 'writing_output': 0.21510744094848633, 'total': 28.560088634490967}\n",
            "Converted /home/erin/Documents/cg2all/3step/sarscov2/ncg25_recon.dcd in CalphaBasedModel to ncg25_recon.all.dcd\n",
            "converted 300 frames, 5035 atoms \n",
            "0.33434075\n"
          ]
        }
      ],
      "source": [
        "for ncgs in cg_list:\n",
        "    dataset = \"sarscov2\"\n",
        "    steps = 3\n",
        "    coarse_grained_model_type = \"CalphaBasedModel\" #@param [\"CalphaBasedModel\", \"ResidueBasedModel\", \"SidechainModel\", \"CalphaCMModel\", \"CalphaSCModel\", \"BackboneModel\", \"MainchainModel\", \"Martini\", \"Martini3\", \"PRIMO\"]\n",
        "\n",
        "    input_pdb = f\"/home/erin/Documents/cg2all/{steps}step/{dataset}/ncg{ncgs}_recon.pdb\"\n",
        "    input_dcd_path = f\"/home/erin/Documents/cg2all/{steps}step/{dataset}/ncg{ncgs}_recon.dcd\"\n",
        "    !mdconvert $input_pdb -o $input_dcd_path -f\n",
        "    #input_pdb = list(input_pdb)[0]\n",
        "    #input_dcd = files.upload()\n",
        "    input_dcd = f\"/home/erin/Documents/cg2all/{steps}step/{dataset}/ncg{ncgs}_recon.dcd\"\n",
        "    output_pdb_recon = f\"/home/erin/Documents/cg2all/{steps}step/{dataset}/ncg{ncgs}_FG_recon.pdb\"\n",
        "    output_pdb_clean = f\"/home/erin/Documents/cg2all/{steps}step/{dataset}/ncg{ncgs}_FG_recon_clean.pdb\"\n",
        "\n",
        "    batch_size = 5 #@param {type: \"number\"}\n",
        "    #@markdown - Batch size should be a divisor of the total number of frames. The example trajectory file has five frames.\n",
        "\n",
        "    # convert\n",
        "    import pathlib\n",
        "    output_dcd = pathlib.Path(input_dcd).stem + \".all.dcd\"\n",
        "    output_pdb = pathlib.Path(input_pdb).stem + \".all.pdb\"\n",
        "\n",
        "    !convert_cg2all -p $input_pdb --dcd $input_dcd -o $output_dcd -opdb $output_pdb --cg $coarse_grained_model_type --batch $batch_size\n",
        "    print(f\"Converted {input_dcd} in {coarse_grained_model_type} to {output_dcd}\")\n",
        "\n",
        "    # import mdtraj\n",
        "    # pdb = mdtraj.load(input_pdb)\n",
        "    # traj = mdtraj.load(output_dcd, top=output_pdb)\n",
        "    # if len(traj) > 20:\n",
        "    #     print(\"Displaying first 20 frames\")\n",
        "    #     traj = traj[:20]\n",
        "    # traj = traj.superpose(traj)\n",
        "    #traj.save(\"display.pdb\")\n",
        "    #\n",
        "    #display(\"display.pdb\", representation=\"cartoon\", is_traj=True).show()\n",
        "    #print(\"Displaying the last frame\")\n",
        "    #display(output_pdb, representation=\"cartoon\").show()\n",
        "    !mdconvert $output_dcd -t $output_pdb -o $output_pdb_recon -f\n",
        "    !python /home/erin/Documents/cg2all/postprocessing.py --action clean --input $output_pdb_recon\n",
        "    if ncgs ==5:\n",
        "        !python /home/erin/Documents/cg2all/postprocessing.py --action clean --input /home/erin/Documents/cg2all/3step/sarscov2/FG_ground_truth.pdb\n",
        "    !python /home/erin/Documents/cg2all/postprocessing.py --action rmsd --recon $output_pdb_clean --truth /home/erin/Documents/cg2all/2step/sarscov2/FG_ground_truth_clean.pdb"
      ]
    }
  ],
  "metadata": {
    "accelerator": "GPU",
    "colab": {
      "gpuType": "T4",
      "include_colab_link": true,
      "provenance": []
    },
    "kernelspec": {
      "display_name": "cg2all",
      "language": "python",
      "name": "python3"
    },
    "language_info": {
      "codemirror_mode": {
        "name": "ipython",
        "version": 3
      },
      "file_extension": ".py",
      "mimetype": "text/x-python",
      "name": "python",
      "nbconvert_exporter": "python",
      "pygments_lexer": "ipython3",
      "version": "3.8.19"
    }
  },
  "nbformat": 4,
  "nbformat_minor": 0
}
